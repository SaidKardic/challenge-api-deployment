{
 "cells": [
  {
   "cell_type": "code",
   "execution_count": 36,
   "metadata": {},
   "outputs": [],
   "source": [
    "import pandas as pd\n",
    "import numpy as np\n",
    "import seaborn as sns\n",
    "import matplotlib.pyplot as plt\n",
    "from sklearn.model_selection import train_test_split\n",
    "from sklearn.linear_model import LinearRegression\n",
    "import pickle\n",
    "import xgboost\n",
    "from sklearn.metrics import mean_absolute_error"
   ]
  },
  {
   "cell_type": "code",
   "execution_count": 37,
   "metadata": {},
   "outputs": [],
   "source": [
    "df_processed = pd.read_csv('../cleaned_data.csv')"
   ]
  },
  {
   "cell_type": "code",
   "execution_count": 38,
   "metadata": {},
   "outputs": [
    {
     "data": {
      "text/plain": [
       "Index(['Zip code', 'Type of Property', 'Price (€)', 'Bedrooms',\n",
       "       'Living area (m²)', 'Furnished', 'How many fireplaces?', 'Terrace',\n",
       "       'Terrace surface (m²)', 'Garden', 'Garden surface (m²)',\n",
       "       'Surface of the plot (m²)', 'Number of frontages', 'Swimming pool',\n",
       "       'Kitchen type scale', 'Building condition scale', 'Region'],\n",
       "      dtype='object')"
      ]
     },
     "execution_count": 38,
     "metadata": {},
     "output_type": "execute_result"
    }
   ],
   "source": [
    "df_processed.columns"
   ]
  },
  {
   "cell_type": "code",
   "execution_count": 39,
   "metadata": {},
   "outputs": [
    {
     "data": {
      "text/plain": [
       "Zip code                      int64\n",
       "Type of Property              int64\n",
       "Price (€)                     int64\n",
       "Bedrooms                    float64\n",
       "Living area (m²)            float64\n",
       "Furnished                     int64\n",
       "How many fireplaces?        float64\n",
       "Terrace                     float64\n",
       "Terrace surface (m²)        float64\n",
       "Garden                      float64\n",
       "Garden surface (m²)         float64\n",
       "Surface of the plot (m²)    float64\n",
       "Number of frontages         float64\n",
       "Swimming pool                 int64\n",
       "Kitchen type scale          float64\n",
       "Building condition scale    float64\n",
       "Region                      float64\n",
       "dtype: object"
      ]
     },
     "execution_count": 39,
     "metadata": {},
     "output_type": "execute_result"
    }
   ],
   "source": [
    "df_processed.dtypes"
   ]
  },
  {
   "cell_type": "code",
   "execution_count": 40,
   "metadata": {},
   "outputs": [
    {
     "data": {
      "text/plain": [
       "(11129, 17)"
      ]
     },
     "execution_count": 40,
     "metadata": {},
     "output_type": "execute_result"
    }
   ],
   "source": [
    "df_processed.shape"
   ]
  },
  {
   "cell_type": "code",
   "execution_count": 41,
   "metadata": {},
   "outputs": [],
   "source": [
    "X = df_processed.drop(['Price (€)'], axis=1)\n",
    "y = df_processed['Price (€)']\n",
    "\n",
    "X_train, X_test, y_train, y_test = train_test_split(X, y, test_size = 0.1, random_state = 42)"
   ]
  },
  {
   "cell_type": "code",
   "execution_count": 42,
   "metadata": {},
   "outputs": [
    {
     "name": "stdout",
     "output_type": "stream",
     "text": [
      "0.7420516973788729\n",
      "68757.56780660378\n"
     ]
    }
   ],
   "source": [
    "reg = xgboost.XGBRegressor()\n",
    "reg.fit(X_train, y_train)\n",
    "\n",
    "y_pred = reg.predict(X_test)\n",
    "\n",
    "print(reg.score(X_test, y_test))\n",
    "print(mean_absolute_error(y_pred, y_test))"
   ]
  },
  {
   "attachments": {},
   "cell_type": "markdown",
   "metadata": {},
   "source": [
    "Linear regressıon"
   ]
  },
  {
   "cell_type": "code",
   "execution_count": 28,
   "metadata": {},
   "outputs": [
    {
     "name": "stdout",
     "output_type": "stream",
     "text": [
      "0.5447514568420382\n",
      "94369.28527704928\n"
     ]
    }
   ],
   "source": [
    "# reg = LinearRegression()\n",
    "# reg.fit(X_train, y_train)\n",
    "\n",
    "# y_pred = reg.predict(X_test)\n",
    "\n",
    "# print(reg.score(X_test, y_test))\n",
    "# print(mean_absolute_error(y_pred, y_test))"
   ]
  },
  {
   "cell_type": "code",
   "execution_count": null,
   "metadata": {},
   "outputs": [],
   "source": [
    "filename = '../model/finalized_model.sav'\n",
    "pickle.dump(reg, open(filename, 'wb'))"
   ]
  }
 ],
 "metadata": {
  "kernelspec": {
   "display_name": "venv",
   "language": "python",
   "name": "python3"
  },
  "language_info": {
   "codemirror_mode": {
    "name": "ipython",
    "version": 3
   },
   "file_extension": ".py",
   "mimetype": "text/x-python",
   "name": "python",
   "nbconvert_exporter": "python",
   "pygments_lexer": "ipython3",
   "version": "3.11.3"
  },
  "orig_nbformat": 4
 },
 "nbformat": 4,
 "nbformat_minor": 2
}
